{
 "cells": [
  {
   "cell_type": "code",
   "execution_count": null,
   "id": "189eee5b-e6f4-4b53-95bc-c4d7817d8f38",
   "metadata": {},
   "outputs": [],
   "source": [
    "Q1:\n",
    "list1 = [1,2,3,4, [44,55,66, True], False, (34,56,78,89,34), {1,2,3,3,2,1}, {1:34, \"key2\": [55, 67, 78, 89], 4: (45,22, 61, 34)}, [56, 'data science'], 'Machine Learning']\n",
    "Note: you must extract numeric keys and values of the dictionary also.\n",
    "list1 = [1,2,3,4, [44,55,66, True], False, (34,56,78,89,34), {1,2,3,3,2,1}, \\\n",
    "         {1:34, \"key2\": [55, 67, 78, 89], 4: (45,22, 61, 34)}, [56, 'data science'], 'Machine Learning']\n",
    "\n",
    "def number_filter(l1): # define the function\n",
    "    from functools import reduce\n",
    "    n=[] # creat a empty lsit\n",
    "    for i in l1:\n",
    "        if str(i).isnumeric(): # filter only numeric values from the main list\n",
    "            n.append(i)\n",
    "        elif type(i)==list or type(i)==tuple or type(i)== set : # filtering numbers from tup, list, set elements \n",
    "            for j in i:\n",
    "                if str(j).isnumeric():\n",
    "                    n.append(j)\n",
    "        elif type(i)== dict: # filtering only numeric keys\n",
    "            for k,v in i.items():\n",
    "                if str(k).isnumeric() :\n",
    "                    n.append(k)\n",
    "                if str(v).isnumeric():\n",
    "                    n.append(v)\n",
    "            for k,v in i.items():\n",
    "                if str(k).isnumeric()== False :\n",
    "                    if type(v)==list or type(v)== tuple:\n",
    "                        for u in v:\n",
    "                            if str(u).isnumeric():\n",
    "                                n.append(u)\n",
    "            for k,v in i.items():\n",
    "                if str(k).isnumeric()== True :\n",
    "                    if type(v)==list or type(v)== tuple:\n",
    "                        for u in v:\n",
    "                            if str(u).isnumeric():\n",
    "                                n.append(u)\n",
    "   \n",
    "                    \n",
    "                   \n",
    "                        \n",
    "                                \n",
    "#             \n",
    "    return(n) ,(reduce(lambda x,y: x*y, n))\n",
    "    \n",
    "\n",
    "m,result=number_filter(list1)\n",
    "print(\"The extracted list is\\n\",m)\n",
    "print(\"The Product of all numbers is::\\n\\n\",result)\n",
    "The extracted list is\n",
    " [1, 2, 3, 4, 44, 55, 66, 34, 56, 78, 89, 34, 1, 2, 3, 1, 34, 4, 55, 67, 78, 89, 45, 22, 61, 34, 56]\n",
    "The Product of all numbers is::\n",
    "\n",
    " 4134711838987085478833841242112000\n",
    "\n",
    "\n",
    "Q2:"
   ]
  }
 ],
 "metadata": {
  "kernelspec": {
   "display_name": "Python 3 (ipykernel)",
   "language": "python",
   "name": "python3"
  },
  "language_info": {
   "codemirror_mode": {
    "name": "ipython",
    "version": 3
   },
   "file_extension": ".py",
   "mimetype": "text/x-python",
   "name": "python",
   "nbconvert_exporter": "python",
   "pygments_lexer": "ipython3",
   "version": "3.10.6"
  }
 },
 "nbformat": 4,
 "nbformat_minor": 5
}
